{
 "cells": [
  {
   "cell_type": "markdown",
   "metadata": {},
   "source": [
    "# Lab Five\n",
    "---\n",
    "\n",
    "For this lab we're going to be messing around with our Linear Data Types!\n",
    "\n",
    "Our Goals are:\n",
    "- Creating an Array\n",
    "- Creating an ArrayList\n",
    "- Creating an LinkedList\n",
    "- Creating an Queue\n",
    "- Creating an Stack \n",
    "\n",
    "Please show the ability to:\n",
    "- Create these data types\n",
    "- Populate the data types\n",
    "- Print out the Linear Data Types"
   ]
  },
  {
   "cell_type": "code",
   "execution_count": 16,
   "metadata": {},
   "outputs": [
    {
     "name": "stdout",
     "output_type": "stream",
     "text": [
      "Horizon\n",
      "Bloodhound\n",
      "Bangalore\n",
      "Wraith\n"
     ]
    }
   ],
   "source": [
    "// Create an Array, Populate it, and Print it out\r\n",
    "String[] Legends = {\"Horizon\",\"Bloodhound\",\"Bangalore\",\"Wraith\"};\r\n",
    "for(int i=0;i<Legends.length;i++){\r\n",
    "System.out.println(Legends[i]);\r\n",
    "}"
   ]
  },
  {
   "cell_type": "code",
   "execution_count": 17,
   "metadata": {},
   "outputs": [
    {
     "name": "stdout",
     "output_type": "stream",
     "text": [
      "[F-22 Raptor, F-35 Lightning II, F-18 Super Hornet, F-16 Fighting Falcon]\n"
     ]
    }
   ],
   "source": [
    "// Create an ArrayList, Populate it, and Print it out\r\n",
    "ArrayList<String> aircraft = new ArrayList<String>();\r\n",
    "aircraft.add(\"F-22 Raptor\");\r\n",
    "aircraft.add(\"F-35 Lightning II\");\r\n",
    "aircraft.add(\"F-18 Super Hornet\");\r\n",
    "aircraft.add(\"F-16 Fighting Falcon\");\r\n",
    "System.out.println(aircraft);"
   ]
  },
  {
   "cell_type": "code",
   "execution_count": 19,
   "metadata": {},
   "outputs": [
    {
     "name": "stdout",
     "output_type": "stream",
     "text": [
      "[McLaren, Mercedes, Ferrari, Red Bull]\n"
     ]
    }
   ],
   "source": [
    "// Create an LinkedList, Populate it, and Print it out\r\n",
    "LinkedList<String> F1 = new LinkedList<String>();\r\n",
    "F1.add(\"McLaren\");\r\n",
    "F1.add(\"Mercedes\");\r\n",
    "F1.add(\"Ferrari\");\r\n",
    "F1.add(\"Red Bull\");\r\n",
    "System.out.println(F1);"
   ]
  },
  {
   "cell_type": "code",
   "execution_count": 20,
   "metadata": {},
   "outputs": [
    {
     "name": "stdout",
     "output_type": "stream",
     "text": [
      "[Customs, Interchange, Woods, Shoreline]\n"
     ]
    }
   ],
   "source": [
    "// Create an Queue, Populate it, and Print it out\r\n",
    "import java.util.Queue;\r\n",
    "\r\n",
    "Queue<String> Maps = new LinkedList<String>();\r\n",
    "Maps.add(\"Customs\");\r\n",
    "Maps.add(\"Interchange\");\r\n",
    "Maps.add(\"Woods\");\r\n",
    "Maps.add(\"Shoreline\");\r\n",
    "\r\n",
    "System.out.println(Maps);\r\n"
   ]
  },
  {
   "cell_type": "code",
   "execution_count": 21,
   "metadata": {},
   "outputs": [
    {
     "name": "stdout",
     "output_type": "stream",
     "text": [
      "[Abrams, Leopard II, Armata, Challenger]\n"
     ]
    }
   ],
   "source": [
    "// Create an Stack, Populate it, and Print it out\r\n",
    "import java.util.Stack;\r\n",
    "\r\n",
    "Stack<String> Tanks = new Stack<String>();\r\n",
    "\r\n",
    "Tanks.push(\"Abrams\");\r\n",
    "Tanks.push(\"Leopard II\");\r\n",
    "Tanks.push(\"Armata\");\r\n",
    "Tanks.push(\"Challenger\");\r\n",
    "\r\n",
    "System.out.println(Tanks);"
   ]
  }
 ],
 "metadata": {
  "kernelspec": {
   "display_name": "Java",
   "name": "java"
  },
  "language_info": {
   "name": "java"
  },
  "orig_nbformat": 2
 },
 "nbformat": 4,
 "nbformat_minor": 2
}