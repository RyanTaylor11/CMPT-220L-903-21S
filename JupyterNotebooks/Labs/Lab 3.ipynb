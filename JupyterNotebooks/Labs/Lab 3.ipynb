{
 "cells": [
  {
   "cell_type": "markdown",
   "metadata": {},
   "source": [
    "# Lab Three\n",
    "---\n",
    "\n",
    "For this lab we're going to be making and using a bunch of functions. \n",
    "\n",
    "Our Goals are:\n",
    "- Switch Case\n",
    "- Looping\n",
    "- Making our own functions\n",
    "- Combining functions\n",
    "- Structuring solutions"
   ]
  },
  {
   "cell_type": "code",
   "execution_count": 2,
   "metadata": {},
   "outputs": [
    {
     "name": "stdout",
     "output_type": "stream",
     "text": [
      "You choose to stand with the US goverment\n",
      "You choose to stand with the upcoming goverment from california\n",
      "You choose the ranging bull of the east\n"
     ]
    }
   ],
   "source": [
    "// Give me an example of you using switch case.\r\n",
    "String faction = \"Enclave\";\r\n",
    "\r\n",
    "switch (faction){\r\n",
    "    case \"Enclave\":\r\n",
    "        System.out.println(\"You choose to stand with the US goverment\");\r\n",
    "    case \"NCR\":\r\n",
    "        System.out.println(\"You choose to stand with the upcoming goverment from california\");\r\n",
    "    case \"Legion\":\r\n",
    "        System.out.println(\"You choose the ranging bull of the east\");\r\n",
    "}"
   ]
  },
  {
   "cell_type": "code",
   "execution_count": 3,
   "metadata": {},
   "outputs": [
    {
     "name": "stdout",
     "output_type": "stream",
     "text": [
      "THis should increase by 1 up to 7: 0\n",
      "THis should increase by 1 up to 7: 1\n",
      "THis should increase by 1 up to 7: 2\n",
      "THis should increase by 1 up to 7: 3\n",
      "THis should increase by 1 up to 7: 4\n",
      "THis should increase by 1 up to 7: 5\n",
      "THis should increase by 1 up to 7: 6\n"
     ]
    }
   ],
   "source": [
    "// Give me an example of you using a for loop\r\n",
    "for (int x = 0; x < 7; x++) {\r\n",
    "    System.out.println(\"THis should increase by 1 up to 7: \" + x);\r\n",
    "}"
   ]
  },
  {
   "cell_type": "code",
   "execution_count": 4,
   "metadata": {},
   "outputs": [
    {
     "name": "stdout",
     "output_type": "stream",
     "text": [
      "Audi\n",
      "Mclaren\n",
      "Tesla\n",
      "Ford\n"
     ]
    }
   ],
   "source": [
    "// Give me an example of you using a for each loop\r\n",
    "String[] cars = {\"Audi\", \"Mclaren\", \"Tesla\", \"Ford\"};\r\n",
    "for (String brands: cars){\r\n",
    "    System.out.println(brands);\r\n",
    "}"
   ]
  },
  {
   "cell_type": "code",
   "execution_count": 5,
   "metadata": {},
   "outputs": [
    {
     "name": "stdout",
     "output_type": "stream",
     "text": [
      "We haven't found the answer yet.\n",
      "We haven't found the answer yet.\n",
      "We haven't found the answer yet.\n",
      "We haven't found the answer yet.\n",
      "We haven't found the answer yet.\n",
      "We haven't found the answer yet.\n",
      "We haven't found the answer yet.\n",
      "We haven't found the answer yet.\n",
      "We haven't found the answer yet.\n",
      "We haven't found the answer yet.\n",
      "We haven't found the answer yet.\n",
      "We haven't found the answer yet.\n",
      "We haven't found the answer yet.\n",
      "We haven't found the answer yet.\n",
      "We haven't found the answer yet.\n",
      "We haven't found the answer yet.\n",
      "We haven't found the answer yet.\n",
      "We haven't found the answer yet.\n",
      "We haven't found the answer yet.\n",
      "We haven't found the answer yet.\n",
      "We haven't found the answer yet.\n",
      "We haven't found the answer yet.\n",
      "We haven't found the answer yet.\n",
      "We haven't found the answer yet.\n",
      "We found the secret number! It was: 24\n"
     ]
    }
   ],
   "source": [
    "// Give me an example of you using a while loop\r\n",
    "import java.lang.Math;\r\n",
    "\r\n",
    "int low = 10;\r\n",
    "int high = 30;\r\n",
    "int range = high - low + 1;\r\n",
    "int answer = (int) (Math.random() * range) + low;\r\n",
    "int position = 0;\r\n",
    "while (position != answer) {\r\n",
    "    System.out.println(\"We haven't found the answer yet.\");\r\n",
    "    position++;\r\n",
    "}\r\n",
    "System.out.println(\"We found the secret number! It was: \" + answer);"
   ]
  },
  {
   "cell_type": "code",
   "execution_count": 27,
   "metadata": {},
   "outputs": [],
   "source": [
    "// I want you to write a function that will take in a number and raise it to the power given. \r\n",
    "\r\n",
    "// For example if given the numbers 2 and 3. The math that the function should do is 2^3 and should print out or return 8. Print the output.\r\n",
    "import java.util.Scanner;\r\n",
    "import java.lang.Math;\r\n",
    "public class Exponents   \r\n",
    "{  \r\n",
    "    public static void main(String[] args)  \r\n",
    "    {  \r\n",
    "    double num;\r\n",
    "    double exp;\r\n",
    "    double total;\r\n",
    "    Scanner sc= new Scanner(System.in);    //System.in is a standard input stream  \r\n",
    "    System.out.println(\"Enter an number you want to square: \");\r\n",
    "    num = in.nextInt();\r\n",
    "\r\n",
    "    System.out.println(\"Enter an number you want to square by: \");\r\n",
    "    exp = in.nextInt();\r\n",
    "    System.out.println(\"Input Integer is: \"+ num);\r\n",
    "    total = Math.pow(num,exp);\r\n",
    "    System.out.println(\"Your solution is \" + total);\r\n",
    "    }  \r\n",
    "}  "
   ]
  },
  {
   "cell_type": "code",
   "execution_count": 6,
   "metadata": {},
   "outputs": [],
   "source": [
    "// I want you to write a function that will take in a list and see how many times a given number is in the list. \n",
    "\n",
    "// For example if the array given is [2,3,5,2,3,6,7,8,2] and the number given is 2 the function should print out or return 3. Print the output."
   ]
  },
  {
   "cell_type": "code",
   "execution_count": 7,
   "metadata": {},
   "outputs": [],
   "source": [
    "// Give me a function that gives the answer to the pythagorean theorem. \n",
    "// I'd like you to reuse the exponent function from above as well as the functions below to make your function.\n",
    "\n",
    "// If you don't remember the pythagorean theorem the formula is (a^2 + b^2 = c^2). Given a and b as parameters i'd like you to return c. \n",
    "// If this doesn't make sense look up `Pythagorean Theorem Formula` on google.\n",
    "\n",
    "int addition(int a, int b) {\n",
    "    int answer = a + b;\n",
    "    return answer;\n",
    "}\n",
    "\n",
    "int division(int a, int b) {\n",
    "    int answer = a / b;\n",
    "    return answer;\n",
    "}\n",
    "\n",
    "\n"
   ]
  }
 ],
 "metadata": {
  "kernelspec": {
   "display_name": "Java",
   "language": "java",
   "name": "java"
  },
  "language_info": {
   "codemirror_mode": {
    "name": "ipython",
    "version": 3
   },
   "file_extension": ".py",
   "mimetype": "text/x-python",
   "name": "python",
   "nbconvert_exporter": "python",
   "pygments_lexer": "ipython3",
   "version": "3.8.5-final"
  },
  "orig_nbformat": 2
 },
 "nbformat": 4,
 "nbformat_minor": 2
}