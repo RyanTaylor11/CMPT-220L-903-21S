{
 "cells": [
  {
   "cell_type": "markdown",
   "metadata": {},
   "source": [
    "# Lab Two\n",
    "---\n",
    "\n",
    "Ok for this lab we're going to reiterate a lot of the things that we went over in class.\n",
    "\n",
    "Our Goals are:\n",
    "- Conditionals\n",
    "    - If\n",
    "    - Else\n",
    "    - Else If"
   ]
  },
  {
   "cell_type": "code",
   "execution_count": 2,
   "metadata": {},
   "outputs": [
    {
     "name": "stdout",
     "output_type": "stream",
     "text": [
      "This do be a true statment\n"
     ]
    }
   ],
   "source": [
    "// Make an if statement\r\n",
    "if (true){\r\n",
    "    System.out.println(\"This do be a true statment\");\r\n",
    "}"
   ]
  },
  {
   "cell_type": "code",
   "execution_count": 4,
   "metadata": {},
   "outputs": [
    {
     "name": "stdout",
     "output_type": "stream",
     "text": [
      "This should print however\n"
     ]
    }
   ],
   "source": [
    "// Make an if, else statement where the else statement triggers\r\n",
    "if (!true){\r\n",
    "    System.out.println(\"this should not print\");\r\n",
    "} else {\r\n",
    "    System.out.println(\"This should print however\");\r\n",
    "}"
   ]
  },
  {
   "cell_type": "code",
   "execution_count": 5,
   "metadata": {},
   "outputs": [
    {
     "name": "stdout",
     "output_type": "stream",
     "text": [
      "I'll bake you cookies\n"
     ]
    }
   ],
   "source": [
    "// Make an if, else if, else statement where the else if statement triggers\r\n",
    "if (!true) {\r\n",
    "\r\n",
    "    System.out.println(\"No work\");\r\n",
    "} else if (!true){\r\n",
    "    System.out.println(\"this shouldn't work\");\r\n",
    "    \r\n",
    "} else {\r\n",
    "    System.out.println(\"This should work\");\r\n",
    "    \r\n",
    "}"
   ]
  },
  {
   "cell_type": "code",
   "execution_count": 6,
   "metadata": {},
   "outputs": [
    {
     "name": "stdout",
     "output_type": "stream",
     "text": [
      "x is greater then y\n"
     ]
    }
   ],
   "source": [
    "// Make 2 variables and use them in an if else conditional\r\n",
    "int x = 50;\r\n",
    "int y = 20;\r\n",
    "if (x > y){\r\n",
    "    System.out.println(\"x is greater then y\");\r\n",
    "} else {\r\n",
    "    System.out.println(\"y is greater then x\");\r\n",
    "}"
   ]
  },
  {
   "cell_type": "code",
   "execution_count": 10,
   "metadata": {},
   "outputs": [
    {
     "name": "stdout",
     "output_type": "stream",
     "text": [
      "The variables equal 250\n"
     ]
    }
   ],
   "source": [
    "// Make an if statement using 2 variables and an AND(&&) statement\r\n",
    "int a = 200;\r\n",
    "int b = 50;\r\n",
    "if (a + b > 200 && a + b < 300){\r\n",
    "    System.out.println(\"The variables equal 250\");\r\n",
    "}"
   ]
  },
  {
   "cell_type": "code",
   "execution_count": 12,
   "metadata": {},
   "outputs": [
    {
     "name": "stdout",
     "output_type": "stream",
     "text": [
      "Windows and mac are good\n"
     ]
    }
   ],
   "source": [
    "// Make an if statement using 2 variables and an OR(||) statement\r\n",
    "int windows = 10;\r\n",
    "int mac = 20;\r\n",
    "if (windows + mac < 50 || windows + mac > 40){\r\n",
    "    System.out.println(\"Windows and mac are good\");\r\n",
    "}"
   ]
  }
 ],
 "metadata": {
  "kernelspec": {
   "display_name": "Java",
   "name": "java"
  },
  "language_info": {
   "name": "java"
  },
  "orig_nbformat": 2
 },
 "nbformat": 4,
 "nbformat_minor": 2
}