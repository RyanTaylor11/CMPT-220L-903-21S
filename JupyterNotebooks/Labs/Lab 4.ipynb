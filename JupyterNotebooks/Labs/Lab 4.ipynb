{
 "cells": [
  {
   "cell_type": "markdown",
   "metadata": {},
   "source": [
    "# Lab Four\n",
    "---\n",
    "\n",
    "For this lab we're going to be messing around with Markdown!\n",
    "\n",
    "Our Goals are:\n",
    "- Using Markdown!\n",
    "\n",
    "I want you to describe to me your process of converting the assignment and making it DRY. \n",
    "\n",
    "Please show the ability to:\n",
    "- Make a header\n",
    "- Make a list (ordered or unordered)\n",
    "- Link the Markdown Guide from the lesson. \n",
    "- Artuculate your thought process."
   ]
  },
  {
   "cell_type": "markdown",
   "metadata": {},
   "source": [
    "# Ryan Taylor Professor Kippins CMPT 220L 20th of March 20201\r\n",
    "## [Markdown](https://www.markdownguide.org)\r\n",
    "The process of drying the code first had to allow the user to enter in their choices of food and the quanites of food.  This was done through the scanner allowing the user to enter \r\n",
    "1. first their quantity of drinks they wanted to buy.  \r\n",
    "2. Secondly the number of snacks \r\n",
    "3. finally how much they wanted to tip if they wanted to tip.\r\n",
    "\r\n",
    "After obtaing the variables for one order it went through a loop 15 times till all the orders of the customers have been taken.  While this is happening the program is multiplaying the quantity of the items by their price and adding up the tips.  At the end it displays all of the values which are equivalent if you don't mess up the inputs.  On completion is will show the exact same numbers as the wet code.  This is better way to do it as it runs through a loop and requires less hard code and allows the customers to order themseleves. \r\n",
    "\r\n"
   ]
  }
 ],
 "metadata": {
  "kernelspec": {
   "display_name": "Java",
   "language": "java",
   "name": "java"
  },
  "language_info": {
   "codemirror_mode": {
    "name": "ipython",
    "version": 3
   },
   "file_extension": ".py",
   "mimetype": "text/x-python",
   "name": "python",
   "nbconvert_exporter": "python",
   "pygments_lexer": "ipython3",
   "version": 3
  },
  "orig_nbformat": 2
 },
 "nbformat": 4,
 "nbformat_minor": 2
}