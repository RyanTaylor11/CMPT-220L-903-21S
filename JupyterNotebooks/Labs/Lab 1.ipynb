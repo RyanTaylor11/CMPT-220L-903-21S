{
 "cells": [
  {
   "cell_type": "markdown",
   "metadata": {},
   "source": [
    "# Lab One\n",
    "---\n",
    "\n",
    "Ok for this lab we're going to reiterate a lot of the things that we went over in class.\n",
    "\n",
    "Our Goals are:\n",
    "- Binary Math\n",
    "- Defining Variables\n",
    "    - Primitive Types\n",
    "    - Reference Types\n",
    "- Using Math\n",
    "- Manipulating Variables"
   ]
  },
  {
   "cell_type": "markdown",
   "metadata": {},
   "source": [
    "For this section I just want you to type the answer. I know that you can just look this up but try and do the math. \r\n",
    "### What is 1000 in Decimal\r\n",
    "8\r\n",
    "### What is 1000 1001 in Decimal (This is a byte. It's just split for readability)\r\n",
    "137\r\n",
    "### What is 1010 1111 in Decimal (This is a byte. It's just split for readability)\r\n",
    "175\r\n",
    "### What is 0101 1010 in Decimal (This is a byte. It's just split for readability)\r\n",
    "90"
   ]
  },
  {
   "cell_type": "code",
   "execution_count": 34,
   "metadata": {},
   "outputs": [
    {
     "name": "stdout",
     "output_type": "stream",
     "text": [
      "true\n",
      "10\n",
      "256\n",
      "-1000\n",
      "20000\n",
      "30.0\n",
      "-20.5\n",
      "\n",
      "\n"
     ]
    }
   ],
   "source": [
    "// Define 8 variables, one of each type listed: [boolean, byte, short, int, long, float, double, char]. Print all 8 of them.\r\n",
    "boolean student = true;\r\n",
    "System.out.println(student);\r\n",
    "\r\n",
    "byte alpha = 10;\r\n",
    "System.out.println(alpha);\r\n",
    "\r\n",
    "short beta = 256;\r\n",
    "System.out.println(beta);\r\n",
    "\r\n",
    "int charlie = -1000;\r\n",
    "System.out.println(charlie);\r\n",
    "\r\n",
    "long delta = 20000;\r\n",
    "System.out.println(delta);\r\n",
    "\r\n",
    "float echo = 30;\r\n",
    "System.out.println(echo);\r\n",
    "\r\n",
    "double foxtrot = -20.5;\r\n",
    "System.out.println(foxtrot);\r\n",
    "\r\n",
    "char golf = 10;\r\n",
    "System.out.println(golf);\r\n",
    "\r\n"
   ]
  },
  {
   "cell_type": "markdown",
   "metadata": {},
   "source": []
  },
  {
   "cell_type": "code",
   "execution_count": 4,
   "metadata": {},
   "outputs": [
    {
     "name": "stdout",
     "output_type": "stream",
     "text": [
      "[United, Delta, Southwest, Frontier, American]\n"
     ]
    }
   ],
   "source": [
    "// Make me a list of any type\r\n",
    "import java.util.ArrayList;\r\n",
    "\r\n",
    "    ArrayList<String> airlines = new ArrayList<String>();\r\n",
    "    airlines.add(\"United\");\r\n",
    "    airlines.add(\"Delta\");\r\n",
    "    airlines.add(\"Southwest\");\r\n",
    "    airlines.add(\"Frontier\");\r\n",
    "    airlines.add(\"American\");\r\n",
    "    System.out.println(airlines);\r\n",
    "\r\n"
   ]
  },
  {
   "cell_type": "code",
   "execution_count": 68,
   "metadata": {},
   "outputs": [
    {
     "name": "stdout",
     "output_type": "stream",
     "text": [
      "6\n",
      "15\n",
      "50\n",
      "700\n",
      "1\n"
     ]
    }
   ],
   "source": [
    "// With whatever variables you'd like demonstrate the following: [Addition, Subtraction, Division, Multiplication, Modulo]. Print all 5.\r\n",
    "\r\n",
    "int coupe,sedan,doors;\r\n",
    "coupe = 2;\r\n",
    "sedan = 4;\r\n",
    "doors = coupe + sedan;\r\n",
    "System.out.println(doors);\r\n",
    "int sub1,sub2,sub3;\r\n",
    "sub1=20;\r\n",
    "sub2=5;\r\n",
    "sub3= sub1 - sub2;\r\n",
    "System.out.println(sub3);\r\n",
    "int div1,div2,div3;\r\n",
    "div1= 500;\r\n",
    "div2= 10;\r\n",
    "div3= div1 / div2;\r\n",
    "System.out.println(div3);\r\n",
    "int multi1,multi2,multi3;\r\n",
    "multi1= 20;\r\n",
    "multi2= 35;\r\n",
    "multi3= multi1 * multi2;\r\n",
    "System.out.println(multi3);\r\n",
    "int mod1,mod2,mod3;\r\n",
    "mod1= 25;\r\n",
    "mod2= 2;\r\n",
    "mod3= mod1 % mod2;\r\n",
    "System.out.println(mod3);"
   ]
  },
  {
   "cell_type": "code",
   "execution_count": 70,
   "metadata": {},
   "outputs": [
    {
     "name": "stdout",
     "output_type": "stream",
     "text": [
      "57\n"
     ]
    }
   ],
   "source": [
    "// Using 2 variables and addition print the number 57\r\n",
    "int add1,add2,add3;\r\n",
    "add1= 27;\r\n",
    "add2= 30;\r\n",
    "add3= add1 + add2;\r\n",
    "System.out.println(add3);"
   ]
  },
  {
   "cell_type": "code",
   "execution_count": 1,
   "metadata": {},
   "outputs": [
    {
     "name": "stdout",
     "output_type": "stream",
     "text": [
      "22\n",
      "44\n"
     ]
    }
   ],
   "source": [
    "// Define a variable and print it out. Then alter the same variable and print it out. This can be through string concatenation or addition, etc.\r\n",
    "int guy;\r\n",
    "guy = 22;\r\n",
    "System.out.println(guy);\r\n",
    "guy = guy * 2;\r\n",
    "System.out.println(guy);"
   ]
  }
 ],
 "metadata": {
  "kernelspec": {
   "display_name": "Java",
   "language": "java",
   "name": "java"
  },
  "language_info": {
   "codemirror_mode": "java",
   "file_extension": ".jshell",
   "mimetype": "text/x-java-source",
   "name": "Java",
   "pygments_lexer": "java",
   "version": "15.0.2+7-27"
  },
  "orig_nbformat": 2
 },
 "nbformat": 4,
 "nbformat_minor": 2
}